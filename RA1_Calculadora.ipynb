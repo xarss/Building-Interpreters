{
  "cells": [
    {
      "cell_type": "markdown",
      "metadata": {
        "id": "Z9lwpQxkn7qj"
      },
      "source": [
        "# Imports"
      ]
    },
    {
      "cell_type": "code",
      "execution_count": null,
      "metadata": {
        "id": "7lvHHEB0n5hb"
      },
      "outputs": [],
      "source": [
        "import re\n",
        "import requests\n",
        "from os import replace"
      ]
    },
    {
      "cell_type": "markdown",
      "metadata": {
        "id": "PT4afDFWn9YB"
      },
      "source": [
        "# Functions"
      ]
    },
    {
      "cell_type": "code",
      "execution_count": 2,
      "metadata": {
        "id": "1rM5ySOEqGvW"
      },
      "outputs": [],
      "source": [
        "def add(a, b):\n",
        "  return a + b\n",
        "def subtract(a, b):\n",
        "  return a - b\n",
        "def divide(a, b):\n",
        "  return a / b\n",
        "def multiply(a, b):\n",
        "  return a * b\n",
        "def power(a, b):\n",
        "  return a ** b\n",
        "def module(a, b):\n",
        "  return a % b\n",
        "def real_divide(a, b):\n",
        "  return a // b\n",
        "\n",
        "operations = {\n",
        "    \"+\": add,\n",
        "    \"-\": subtract,\n",
        "    \"/\": divide,\n",
        "    \"*\": multiply,\n",
        "    \"^\": power,\n",
        "    \"%\": module,\n",
        "    \"|\": real_divide\n",
        "}"
      ]
    },
    {
      "cell_type": "code",
      "execution_count": null,
      "metadata": {
        "colab": {
          "base_uri": "https://localhost:8080/"
        },
        "id": "BNv6-FPyn-dZ",
        "outputId": "5318aa00-c18f-4fd1-da52-88288567df1c"
      },
      "outputs": [
        {
          "name": "stdout",
          "output_type": "stream",
          "text": [
            "Current formula: (1 (4 (5 6 *) %) -)\n",
            "5 * 6 = 30.0\n",
            "Current formula: (1 (4 30.0 %) -)\n",
            "4 % 30.0 = 4.0\n",
            "Current formula: (1 4.0 -)\n",
            "1 - 4.0 = -3.0\n",
            "Final result: -3.0\n"
          ]
        }
      ],
      "source": [
        "\n",
        "pattern = r\"\\(?(?P<ValueA>[0-9.]+)\\s+(?P<ValueB>[0-9.]+)\\s+(?P<Sign>[+-/*^|%])\\)?\"\n",
        "\n",
        "url = \"\"\n",
        "\n",
        "# Load test files\n",
        "response = requests.get(url)\n",
        "\n",
        "# Check if the request was successful\n",
        "if response.status_code != 200:\n",
        "    print(f\"Failed to retrieve the file. Status code: {response.status_code}\")\n",
        "    exit()\n",
        "    \n",
        "lines = response.text.split(\"\\n\")\n",
        "\n",
        "for line in lines:\n",
        "    text = line\n",
        "    match = re.search(pattern, text)\n",
        "    while match:\n",
        "        print(f\"Current formula: {text}\")\n",
        "\n",
        "        # Get values from regex match\n",
        "        a = match.group(\"ValueA\")\n",
        "        b = match.group(\"ValueB\")\n",
        "        sign = match.group(\"Sign\")\n",
        "\n",
        "        operation = operations[sign]\n",
        "\n",
        "        # Run the function\n",
        "        result = operation(float(a), float(b))\n",
        "\n",
        "        print(f\"{a} {sign} {b} = {result}\")\n",
        "\n",
        "        # Replace the match with the result\n",
        "        text = text.replace(match.group(), str(result))\n",
        "\n",
        "        match = re.search(pattern, text)\n",
        "\n",
        "    print(f\"Result: {text}\")"
      ]
    }
  ],
  "metadata": {
    "colab": {
      "provenance": []
    },
    "kernelspec": {
      "display_name": "Python 3",
      "name": "python3"
    },
    "language_info": {
      "codemirror_mode": {
        "name": "ipython",
        "version": 3
      },
      "file_extension": ".py",
      "mimetype": "text/x-python",
      "name": "python",
      "nbconvert_exporter": "python",
      "pygments_lexer": "ipython3",
      "version": "3.11.2"
    }
  },
  "nbformat": 4,
  "nbformat_minor": 0
}
