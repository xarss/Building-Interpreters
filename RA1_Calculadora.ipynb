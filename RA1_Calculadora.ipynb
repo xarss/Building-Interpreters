{
  "cells": [
    {
      "cell_type": "markdown",
      "metadata": {},
      "source": [
        "[![Open in Colab](https://colab.research.google.com/assets/colab-badge.svg)](https://colab.research.google.com/drive/14Ot_kwH-ELTwIfFNkwGK1tF0nWeD3Npa?usp=sharing)"
      ]
    },
    {
      "cell_type": "markdown",
      "metadata": {
        "id": "Z9lwpQxkn7qj"
      },
      "source": [
        "# Imports"
      ]
    },
    {
      "cell_type": "code",
      "execution_count": 4,
      "metadata": {
        "id": "7lvHHEB0n5hb"
      },
      "outputs": [],
      "source": [
        "import re\n",
        "import requests\n",
        "from os import replace"
      ]
    },
    {
      "cell_type": "markdown",
      "metadata": {
        "id": "PT4afDFWn9YB"
      },
      "source": [
        "# Functions"
      ]
    },
    {
      "cell_type": "code",
      "execution_count": 5,
      "metadata": {
        "id": "1rM5ySOEqGvW"
      },
      "outputs": [],
      "source": [
        "def add(a, b):\n",
        "  return a + b\n",
        "def subtract(a, b):\n",
        "  return a - b\n",
        "def divide(a, b):\n",
        "  return a / b\n",
        "def multiply(a, b):\n",
        "  return a * b\n",
        "def power(a, b):\n",
        "  return a ** b\n",
        "def module(a, b):\n",
        "  return a % b\n",
        "def real_divide(a, b):\n",
        "  return a // b\n",
        "\n",
        "operations = {\n",
        "    \"+\": add,\n",
        "    \"-\": subtract,\n",
        "    \"/\": divide,\n",
        "    \"*\": multiply,\n",
        "    \"^\": power,\n",
        "    \"%\": module,\n",
        "    \"|\": real_divide\n",
        "}"
      ]
    },
    {
      "cell_type": "code",
      "execution_count": 6,
      "metadata": {
        "colab": {
          "base_uri": "https://localhost:8080/"
        },
        "id": "BNv6-FPyn-dZ",
        "outputId": "5318aa00-c18f-4fd1-da52-88288567df1c"
      },
      "outputs": [
        {
          "name": "stdout",
          "output_type": "stream",
          "text": [
            "Current formula: 1 2 +\n",
            "1 + 2 = 3.0\n",
            "Result: 3.0\n",
            "Current formula: 5 3 -\n",
            "5 - 3 = 2.0\n",
            "Result: 2.0\n",
            "Current formula: 4 2 *\n",
            "4 * 2 = 8.0\n",
            "Result: 8.0\n",
            "Current formula: 8 4 /\n",
            "8 / 4 = 2.0\n",
            "Result: 2.0\n",
            "Current formula: 3 3 ^\n",
            "3 ^ 3 = 27.0\n",
            "Result: 27.0\n",
            "Current formula: 10 3 |\n",
            "10 | 3 = 3.0\n",
            "Result: 3.0\n",
            "Current formula: 17 5 %\n",
            "17 % 5 = 2.0\n",
            "Result: 2.0\n",
            "Current formula: 6 (2 3 +) *\n",
            "2 + 3 = 5.0\n",
            "Current formula: 6 5.0 *\n",
            "6 * 5.0 = 30.0\n",
            "Result: 30.0\n",
            "Current formula: (5 5 *)\n",
            "5 * 5 = 25.0\n",
            "Result: 25.0\n",
            "Current formula: 2 (8 4 /) ^\n",
            "8 / 4 = 2.0\n",
            "Current formula: 2 2.0 ^\n",
            "2 ^ 2.0 = 4.0\n",
            "Result: 4.0\n",
            "Current formula: 18 (10 2 |) -\n",
            "10 | 2 = 5.0\n",
            "Current formula: 18 5.0 -\n",
            "18 - 5.0 = 13.0\n",
            "Result: 13.0\n",
            "Current formula: (14 7 |) (5 2 *) +\n",
            "14 | 7 = 2.0\n",
            "Current formula: 2.0 (5 2 *) +\n",
            "5 * 2 = 10.0\n",
            "Current formula: 2.0 10.0 +\n",
            "2.0 + 10.0 = 12.0\n",
            "Result: 12.0\n",
            "Current formula: 9 (3 3 +) /\n",
            "3 + 3 = 6.0\n",
            "Current formula: 9 6.0 /\n",
            "9 / 6.0 = 1.5\n",
            "Result: 1.5\n",
            "Current formula: (10 2 |) (9 3 |) *\n",
            "10 | 2 = 5.0\n",
            "Current formula: 5.0 (9 3 |) *\n",
            "9 | 3 = 3.0\n",
            "Current formula: 5.0 3.0 *\n",
            "5.0 * 3.0 = 15.0\n",
            "Result: 15.0\n",
            "Current formula: (6 3 |) (7 3 -) *\n",
            "6 | 3 = 2.0\n",
            "Current formula: 2.0 (7 3 -) *\n",
            "7 - 3 = 4.0\n",
            "Current formula: 2.0 4.0 *\n",
            "2.0 * 4.0 = 8.0\n",
            "Result: 8.0\n"
          ]
        }
      ],
      "source": [
        "\n",
        "pattern = r\"\\(?(?P<ValueA>[0-9.]+)\\s+(?P<ValueB>[0-9.]+)\\s+(?P<Sign>[+-/*^|%])\\)?\"\n",
        "\n",
        "url = \"https://raw.githubusercontent.com/xarss/Building-Interpreters/refs/heads/main/Tests/RA1-Test1.txt\"\n",
        "\n",
        "# Load test files\n",
        "response = requests.get(url)\n",
        "\n",
        "# Check if the request was successful\n",
        "if response.status_code != 200:\n",
        "    print(f\"Failed to retrieve the file. Status code: {response.status_code}\")\n",
        "    exit()\n",
        "    \n",
        "lines = response.text.split(\"\\n\")\n",
        "\n",
        "for line in lines:\n",
        "    text = line\n",
        "    match = re.search(pattern, text)\n",
        "    while match:\n",
        "        print(f\"Current formula: {text}\")\n",
        "\n",
        "        # Get values from regex match\n",
        "        a = match.group(\"ValueA\")\n",
        "        b = match.group(\"ValueB\")\n",
        "        sign = match.group(\"Sign\")\n",
        "\n",
        "        operation = operations[sign]\n",
        "\n",
        "        # Run the function\n",
        "        result = operation(float(a), float(b))\n",
        "\n",
        "        print(f\"{a} {sign} {b} = {result}\")\n",
        "\n",
        "        # Replace the match with the result\n",
        "        text = text.replace(match.group(), str(result))\n",
        "\n",
        "        match = re.search(pattern, text)\n",
        "\n",
        "    print(f\"Result: {text}\")"
      ]
    }
  ],
  "metadata": {
    "colab": {
      "provenance": []
    },
    "kernelspec": {
      "display_name": "Python 3",
      "name": "python3"
    },
    "language_info": {
      "codemirror_mode": {
        "name": "ipython",
        "version": 3
      },
      "file_extension": ".py",
      "mimetype": "text/x-python",
      "name": "python",
      "nbconvert_exporter": "python",
      "pygments_lexer": "ipython3",
      "version": "3.11.2"
    }
  },
  "nbformat": 4,
  "nbformat_minor": 0
}
