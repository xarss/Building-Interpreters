{
  "nbformat": 4,
  "nbformat_minor": 0,
  "metadata": {
    "colab": {
      "provenance": []
    },
    "kernelspec": {
      "name": "python3",
      "display_name": "Python 3"
    },
    "language_info": {
      "name": "python"
    }
  },
  "cells": [
    {
      "cell_type": "markdown",
      "source": [
        "# Imports"
      ],
      "metadata": {
        "id": "Z9lwpQxkn7qj"
      }
    },
    {
      "cell_type": "code",
      "execution_count": 1,
      "metadata": {
        "id": "7lvHHEB0n5hb"
      },
      "outputs": [],
      "source": [
        "import re\n",
        "from os import replace"
      ]
    },
    {
      "cell_type": "markdown",
      "source": [
        "# Functions"
      ],
      "metadata": {
        "id": "PT4afDFWn9YB"
      }
    },
    {
      "cell_type": "code",
      "source": [
        "def add(a, b):\n",
        "  return a + b\n",
        "def subtract(a, b):\n",
        "  return a - b\n",
        "def divide(a, b):\n",
        "  return a / b\n",
        "def multiply(a, b):\n",
        "  return a * b\n",
        "def power(a, b):\n",
        "  return a ** b\n",
        "def module(a, b):\n",
        "  return a % b\n",
        "def real_divide(a, b):\n",
        "  return a // b\n",
        "\n",
        "operations = {\n",
        "    \"+\": add,\n",
        "    \"-\": subtract,\n",
        "    \"/\": divide,\n",
        "    \"*\": multiply,\n",
        "    \"^\": power,\n",
        "    \"%\": module,\n",
        "    \"|\": real_divide\n",
        "}"
      ],
      "metadata": {
        "id": "1rM5ySOEqGvW"
      },
      "execution_count": 6,
      "outputs": []
    },
    {
      "cell_type": "code",
      "source": [
        "# Load test files\n",
        "\n",
        "pattern = r\"\\(?(?P<ValueA>[0-9.]+)\\s+(?P<ValueB>[0-9.]+)\\s+(?P<Sign>[+-/*^|%])\\)?\"\n",
        "\n",
        "text = \"(1 (4 (5 6 *) %) -)\"\n",
        "\n",
        "match = re.search(pattern, text)\n",
        "while match:\n",
        "    print(f\"Current formula: {text}\")\n",
        "\n",
        "    # Get values from regex match\n",
        "    a = match.group(\"ValueA\")\n",
        "    b = match.group(\"ValueB\")\n",
        "    sign = match.group(\"Sign\")\n",
        "\n",
        "    operation = operations[sign]\n",
        "\n",
        "    # Run the function\n",
        "    result = operation(float(a), float(b))\n",
        "\n",
        "    print(f\"{a} {sign} {b} = {result}\")\n",
        "\n",
        "    # Replace the match with the result\n",
        "    text = text.replace(match.group(), str(result))\n",
        "\n",
        "    match = re.search(pattern, text)\n",
        "\n",
        "print(f\"Final result: {text}\")"
      ],
      "metadata": {
        "colab": {
          "base_uri": "https://localhost:8080/"
        },
        "id": "BNv6-FPyn-dZ",
        "outputId": "5318aa00-c18f-4fd1-da52-88288567df1c"
      },
      "execution_count": 17,
      "outputs": [
        {
          "output_type": "stream",
          "name": "stdout",
          "text": [
            "Current formula: (1 (4 (5 6 *) %) -)\n",
            "5 * 6 = 30.0\n",
            "Current formula: (1 (4 30.0 %) -)\n",
            "4 % 30.0 = 4.0\n",
            "Current formula: (1 4.0 -)\n",
            "1 - 4.0 = -3.0\n",
            "Final result: -3.0\n"
          ]
        }
      ]
    }
  ]
}