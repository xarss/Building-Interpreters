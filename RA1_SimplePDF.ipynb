{
 "cells": [
  {
   "cell_type": "markdown",
   "metadata": {},
   "source": [
    "# Imports"
   ]
  },
  {
   "cell_type": "code",
   "execution_count": null,
   "metadata": {},
   "outputs": [
    {
     "name": "stdout",
     "output_type": "stream",
     "text": [
      "Requirement already satisfied: requests in c:\\users\\chico\\appdata\\local\\programs\\python\\python311\\lib\\site-packages (2.28.2)\n",
      "Requirement already satisfied: charset-normalizer<4,>=2 in c:\\users\\chico\\appdata\\local\\programs\\python\\python311\\lib\\site-packages (from requests) (3.1.0)\n",
      "Requirement already satisfied: idna<4,>=2.5 in c:\\users\\chico\\appdata\\local\\programs\\python\\python311\\lib\\site-packages (from requests) (3.4)\n",
      "Requirement already satisfied: urllib3<1.27,>=1.21.1 in c:\\users\\chico\\appdata\\local\\programs\\python\\python311\\lib\\site-packages (from requests) (1.26.15)\n",
      "Requirement already satisfied: certifi>=2017.4.17 in c:\\users\\chico\\appdata\\local\\programs\\python\\python311\\lib\\site-packages (from requests) (2022.12.7)\n",
      "Note: you may need to restart the kernel to use updated packages.\n"
     ]
    },
    {
     "name": "stderr",
     "output_type": "stream",
     "text": [
      "\n",
      "[notice] A new release of pip is available: 24.2 -> 25.0.1\n",
      "[notice] To update, run: python.exe -m pip install --upgrade pip\n"
     ]
    }
   ],
   "source": [
    "%pip install requests\n",
    "\n",
    "import requests\n",
    "import re"
   ]
  },
  {
   "cell_type": "markdown",
   "metadata": {},
   "source": [
    "# Reader Class"
   ]
  },
  {
   "cell_type": "code",
   "execution_count": 1,
   "metadata": {},
   "outputs": [],
   "source": [
    "class PDFObject:\n",
    "    def __init__(self, id: int, current_byte: int):\n",
    "        self.id = id\n",
    "        self.content: str = \"\"\n",
    "        self.byte_position: int = current_byte\n",
    "\n",
    "    def add_content(self, content: str):\n",
    "        if(self.content):\n",
    "            self.content += \"\\n\"\n",
    "            \n",
    "        self.content += f\"{content}\"\n",
    "\n",
    "class SimplePDFReader:\n",
    "    def __init__(self, lines: list[str]):\n",
    "        self.current_byte: int = 0\n",
    "        self.current_line: int = 0\n",
    "        self.lines: list[str] = lines\n",
    "        self.state: str = \"header\"\n",
    "        self.states = {\n",
    "            \"header\": self.header_state,\n",
    "            \"object\": self.object_state,\n",
    "            \"inner_object\": self.inner_object_state,\n",
    "            \"xref\": self.xref_state,\n",
    "            \"trailer\": self.header_state,\n",
    "            \"end\": self.end_state\n",
    "        }\n",
    "        self.objects: PDFObject = []\n",
    "        self.trailer_content: str = \"\"\n",
    "    \n",
    "    def header_state(self, line: str):\n",
    "        pattern = r\"%SPDF-\\d+.\\d+\"\n",
    "        if(re.search(pattern, line)):\n",
    "            self.state = \"object\"\n",
    "            \n",
    "    def object_state(self, line: str):\n",
    "        if(line == \"xref\"):\n",
    "            self.state = \"xref\"\n",
    "            return\n",
    "        \n",
    "        pattern = r\"(?P<Id>\\d+) 0 obj\"\n",
    "        match = re.search(pattern, line)\n",
    "        if(match):\n",
    "            object_id = match.group(\"Id\")\n",
    "            self.objects.append(PDFObject(object_id), self.current_byte)\n",
    "            self.state = \"inner_object\"\n",
    "    \n",
    "    def inner_object_state(self, line: str):\n",
    "        if(line == \"endobj\"):\n",
    "            self.state = \"object\"\n",
    "            return\n",
    "        \n",
    "        self.objects[-1].add_content(line)\n",
    "        \n",
    "    def xref_state(self, line: str):\n",
    "        pattern = r\"0 (?P<LineCount>\\d+)\"\n",
    "        match = re.search(pattern, line)\n",
    "        if(match):\n",
    "            line_count = match.group(\"LineCount\")\n",
    "            self.current_line += 1\n",
    "            self.current_byte += 1\n",
    "            for i in range(0, line_count):\n",
    "                self.objects[i].byte_position = self.current_byte\n",
    "                self.current_line += 1\n",
    "                \n",
    "        self.state = \"trailer\"\n",
    "\n",
    "    def trailer_state(self, line: str):\n",
    "        if(line == \"startxref\"):\n",
    "            self.state = \"end\"\n",
    "            return\n",
    "        \n",
    "        if(self.trailer_content):\n",
    "            self.trailer_content += \"\\n\"\n",
    "        self.trailer_content += line\n",
    "\n",
    "    def end_state(self, line: str):\n",
    "        pass\n",
    "\n",
    "    def read(self):\n",
    "        while self.current_line < len(self.lines):\n",
    "            self.read_line()\n",
    "    \n",
    "    def read_line(self):\n",
    "        line = self.lines[self.current_line]\n",
    "        \n",
    "        if(line == \"\"):\n",
    "            self.current_line += 1\n",
    "            self.current_byte += 1\n",
    "            return\n",
    "        \n",
    "        # Run method for current state\n",
    "        self.states[self.state](line)\n",
    "        \n",
    "        self.current_byte += len(line)\n",
    "        self.current_line += 1"
   ]
  },
  {
   "cell_type": "markdown",
   "metadata": {},
   "source": [
    "# Main Code"
   ]
  },
  {
   "cell_type": "code",
   "execution_count": 2,
   "metadata": {},
   "outputs": [
    {
     "ename": "NameError",
     "evalue": "name 'requests' is not defined",
     "output_type": "error",
     "traceback": [
      "\u001b[1;31m---------------------------------------------------------------------------\u001b[0m",
      "\u001b[1;31mNameError\u001b[0m                                 Traceback (most recent call last)",
      "Cell \u001b[1;32mIn[2], line 6\u001b[0m\n\u001b[0;32m      3\u001b[0m url \u001b[38;5;241m=\u001b[39m \u001b[38;5;124mf\u001b[39m\u001b[38;5;124m\"\u001b[39m\u001b[38;5;124mhttps://raw.githubusercontent.com/xarss/Building-Interpreters/refs/heads/main/Tests/\u001b[39m\u001b[38;5;132;01m{\u001b[39;00mfile_name\u001b[38;5;132;01m}\u001b[39;00m\u001b[38;5;124m\"\u001b[39m\n\u001b[0;32m      5\u001b[0m \u001b[38;5;66;03m# Load test file\u001b[39;00m\n\u001b[1;32m----> 6\u001b[0m response \u001b[38;5;241m=\u001b[39m \u001b[43mrequests\u001b[49m\u001b[38;5;241m.\u001b[39mget(url)\n\u001b[0;32m      7\u001b[0m lines \u001b[38;5;241m=\u001b[39m response\u001b[38;5;241m.\u001b[39mtext\u001b[38;5;241m.\u001b[39msplit(\u001b[38;5;124m\"\u001b[39m\u001b[38;5;130;01m\\n\u001b[39;00m\u001b[38;5;124m\"\u001b[39m)\n\u001b[0;32m      9\u001b[0m reader \u001b[38;5;241m=\u001b[39m SimplePDFReader(lines)\n",
      "\u001b[1;31mNameError\u001b[0m: name 'requests' is not defined"
     ]
    }
   ],
   "source": [
    "file_name = \"RA1-PDF1.txt\"\n",
    "\n",
    "url = f\"https://raw.githubusercontent.com/xarss/Building-Interpreters/refs/heads/main/Tests/{file_name}\"\n",
    "\n",
    "# Load test file\n",
    "response = requests.get(url)\n",
    "lines = response.text.split(\"\\n\")\n",
    "\n",
    "reader = SimplePDFReader(lines)\n",
    "\n",
    "reader.read()\n",
    "reader.state"
   ]
  }
 ],
 "metadata": {
  "kernelspec": {
   "display_name": "Python 3",
   "language": "python",
   "name": "python3"
  },
  "language_info": {
   "codemirror_mode": {
    "name": "ipython",
    "version": 3
   },
   "file_extension": ".py",
   "mimetype": "text/x-python",
   "name": "python",
   "nbconvert_exporter": "python",
   "pygments_lexer": "ipython3",
   "version": "3.11.2"
  }
 },
 "nbformat": 4,
 "nbformat_minor": 2
}
